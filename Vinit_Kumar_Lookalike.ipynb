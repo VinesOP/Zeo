{
  "nbformat": 4,
  "nbformat_minor": 0,
  "metadata": {
    "colab": {
      "provenance": []
    },
    "kernelspec": {
      "name": "python3",
      "display_name": "Python 3"
    },
    "language_info": {
      "name": "python"
    }
  },
  "cells": [
    {
      "cell_type": "code",
      "execution_count": 2,
      "metadata": {
        "id": "MmifXcXtm5Bf"
      },
      "outputs": [],
      "source": [
        "from sklearn.metrics.pairwise import cosine_similarity\n",
        "import numpy as np\n",
        "import pandas as pd\n",
        "\n",
        "interaction_matrix = pd.pivot_table(merged_df, index='CustomerID', columns='ProductID', values='Quantity', fill_value=0)\n",
        "\n",
        "cosine_sim = cosine_similarity(interaction_matrix)\n",
        "\n",
        "lookalike_dict = {}\n",
        "\n",
        "for i, customer_id in enumerate(interaction_matrix.index):\n",
        "    similar_scores = list(enumerate(cosine_sim[i]))\n",
        "    similar_scores = sorted(similar_scores, key=lambda x: x[1], reverse=True)[1:4]\n",
        "    lookalike_dict[customer_id] = [(interaction_matrix.index[j], score) for j, score in similar_scores]\n",
        "\n",
        "lookalike_rows = []\n",
        "for customer_id, similar_customers in lookalike_dict.items():\n",
        "    for similar_customer in similar_customers:\n",
        "        lookalike_rows.append({\n",
        "            'CustomerID': customer_id,\n",
        "            'Lookalike_CustomerID': similar_customer[0],\n",
        "            'Similarity_Score': similar_customer[1]\n",
        "        })\n",
        "\n",
        "lookalike_df = pd.DataFrame(lookalike_rows)\n",
        "lookalike_df.to_csv('/content/Lookalike.csv', index=False)\n"
      ]
    }
  ]
}